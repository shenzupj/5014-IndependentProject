{
 "cells": [
  {
   "cell_type": "code",
   "execution_count": null,
   "id": "b768ce16",
   "metadata": {
    "scrolled": true
   },
   "outputs": [],
   "source": [
    "from bs4 import BeautifulSoup\n",
    "import traceback\n",
    "import re\n",
    "import time\n",
    "import requests\n",
    "\n",
    "def GetHTMLSource(url): # 得到目标网页源码\n",
    "    try:\n",
    "        r=requests.get(url)\n",
    "        r.raise_for_status ()\n",
    "        r.encoding = r.apparent_encoding\n",
    "        return r.text\n",
    "    except:\n",
    "        print ( \"异常\" )\n",
    "        return \"\"\n",
    "    \n",
    "def SetFileName():\n",
    "    dirname = time.strftime ( '%Y%m%d' , time.localtime ( time.time () ) ) #获取当前日期\n",
    "    dirname += 'sh'\n",
    "    return dirname\n",
    "\n",
    "def getStockInfo(lst , stock_info_url , fpath):\n",
    "    ndate = time.strftime ( '%Y%m%d' , time.localtime ( time.time () ) )\n",
    "    url = 'https://gushitong.baidu.com/stock/ab-600519' # 具体单只股票的url\n",
    "    html = GetHTMLSource ( url )\n",
    "    try:\n",
    "        infoDict = {}\n",
    "        soup = BeautifulSoup ( html , 'html.parser' )\n",
    "        stockInfo = soup.find ( 'div' , attrs={'class': 'stock-bets'} )\n",
    "\n",
    "        keyData = stockInfo.find_all ( 'dt' )\n",
    "        valueData = stockInfo.find_all ( 'dd' )\n",
    "        inp = stock + \",\" + ndate + \",\"\n",
    "        for i in range ( len ( keyData ) ):\n",
    "            key = keyData[ i ].text\n",
    "            val = valueData[ i ].text\n",
    "            infoDict[ key ] = val\n",
    "            inp += infoDict[ '最高' ] + \",\" + infoDict[ '换手率' ] + \",\" + infoDict[ '成交量' ] + \",\" + infoDict[ '成交额' ] + \"\\n\"\n",
    "        with open ( fpath , 'a' , encoding='utf-8' ) as f:\n",
    "            f.write ( inp )\n",
    "    except:\n",
    "        traceback.print_exc ()\n",
    "def main():\n",
    "    stock_name_url = 'http://quote.eastmoney.com/stocklist.html'\n",
    "    stock_data_url = 'http://gupiao.baidu.com/stock/'\n",
    "    output_file = './' + SetFileName () + '.txt' # 输出文件的文件名，路径在默认在项目文件夹下\n",
    "    slist = [ ]\n",
    "    getStockInfo ( slist , stock_data_url , output_file ) #根据股票名称获取数据，保存到output_file文件中\n",
    "\n",
    "main ()"
   ]
  },
  {
   "cell_type": "code",
   "execution_count": null,
   "id": "73dc2c39",
   "metadata": {},
   "outputs": [],
   "source": []
  }
 ],
 "metadata": {
  "kernelspec": {
   "display_name": "Python 3 (ipykernel)",
   "language": "python",
   "name": "python3"
  },
  "language_info": {
   "codemirror_mode": {
    "name": "ipython",
    "version": 3
   },
   "file_extension": ".py",
   "mimetype": "text/x-python",
   "name": "python",
   "nbconvert_exporter": "python",
   "pygments_lexer": "ipython3",
   "version": "3.8.8"
  }
 },
 "nbformat": 4,
 "nbformat_minor": 5
}
