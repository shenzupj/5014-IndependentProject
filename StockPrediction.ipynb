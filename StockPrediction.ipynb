{
 "cells": [
  {
   "cell_type": "code",
   "execution_count": 1,
   "metadata": {},
   "outputs": [
    {
     "name": "stdout",
     "output_type": "stream",
     "text": [
      "WARNING:tensorflow:From C:\\Users\\ufo\\anaconda3\\envs\\tensorflow1\\lib\\site-packages\\tensorflow\\python\\compat\\v2_compat.py:111: disable_resource_variables (from tensorflow.python.ops.variable_scope) is deprecated and will be removed in a future version.\n",
      "Instructions for updating:\n",
      "non-resource variables are not supported in the long term\n"
     ]
    }
   ],
   "source": [
    "import tensorflow.compat.v1 as tf\n",
    "tf.disable_v2_behavior()\n",
    "import numpy as np\n",
    "import matplotlib.pyplot as plt\n",
    "import seaborn as sns\n",
    "import pandas as pd\n",
    "from sklearn.preprocessing import MinMaxScaler\n",
    "from datetime import datetime\n",
    "from datetime import timedelta\n",
    "sns.set()\n",
    "tf.compat.v1.random.set_random_seed(1234)"
   ]
  },
  {
   "cell_type": "code",
   "execution_count": 2,
   "metadata": {
    "scrolled": true
   },
   "outputs": [
    {
     "data": {
      "text/html": [
       "<div>\n",
       "<style scoped>\n",
       "    .dataframe tbody tr th:only-of-type {\n",
       "        vertical-align: middle;\n",
       "    }\n",
       "\n",
       "    .dataframe tbody tr th {\n",
       "        vertical-align: top;\n",
       "    }\n",
       "\n",
       "    .dataframe thead th {\n",
       "        text-align: right;\n",
       "    }\n",
       "</style>\n",
       "<table border=\"1\" class=\"dataframe\">\n",
       "  <thead>\n",
       "    <tr style=\"text-align: right;\">\n",
       "      <th></th>\n",
       "      <th>Date</th>\n",
       "      <th>股票代码</th>\n",
       "      <th>名称</th>\n",
       "      <th>price</th>\n",
       "      <th>positive</th>\n",
       "      <th>negative</th>\n",
       "    </tr>\n",
       "  </thead>\n",
       "  <tbody>\n",
       "    <tr>\n",
       "      <th>0</th>\n",
       "      <td>2021-11-01</td>\n",
       "      <td>'600519</td>\n",
       "      <td>贵州茅台</td>\n",
       "      <td>1803.00</td>\n",
       "      <td>0.7244</td>\n",
       "      <td>0.2756</td>\n",
       "    </tr>\n",
       "    <tr>\n",
       "      <th>1</th>\n",
       "      <td>2021-11-02</td>\n",
       "      <td>'600519</td>\n",
       "      <td>贵州茅台</td>\n",
       "      <td>1804.64</td>\n",
       "      <td>0.7244</td>\n",
       "      <td>0.2756</td>\n",
       "    </tr>\n",
       "    <tr>\n",
       "      <th>2</th>\n",
       "      <td>2021-11-03</td>\n",
       "      <td>'600519</td>\n",
       "      <td>贵州茅台</td>\n",
       "      <td>1765.00</td>\n",
       "      <td>0.7244</td>\n",
       "      <td>0.2756</td>\n",
       "    </tr>\n",
       "    <tr>\n",
       "      <th>3</th>\n",
       "      <td>2021-11-04</td>\n",
       "      <td>'600519</td>\n",
       "      <td>贵州茅台</td>\n",
       "      <td>1804.20</td>\n",
       "      <td>0.7244</td>\n",
       "      <td>0.2756</td>\n",
       "    </tr>\n",
       "    <tr>\n",
       "      <th>4</th>\n",
       "      <td>2021-11-05</td>\n",
       "      <td>'600519</td>\n",
       "      <td>贵州茅台</td>\n",
       "      <td>1819.94</td>\n",
       "      <td>0.7244</td>\n",
       "      <td>0.2756</td>\n",
       "    </tr>\n",
       "  </tbody>\n",
       "</table>\n",
       "</div>"
      ],
      "text/plain": [
       "         Date     股票代码    名称    price  positive  negative\n",
       "0  2021-11-01  '600519  贵州茅台  1803.00    0.7244    0.2756\n",
       "1  2021-11-02  '600519  贵州茅台  1804.64    0.7244    0.2756\n",
       "2  2021-11-03  '600519  贵州茅台  1765.00    0.7244    0.2756\n",
       "3  2021-11-04  '600519  贵州茅台  1804.20    0.7244    0.2756\n",
       "4  2021-11-05  '600519  贵州茅台  1819.94    0.7244    0.2756"
      ]
     },
     "execution_count": 2,
     "metadata": {},
     "output_type": "execute_result"
    }
   ],
   "source": [
    "df = pd.read_csv('maotai.csv')\n",
    "df.head()"
   ]
  },
  {
   "cell_type": "code",
   "execution_count": 3,
   "metadata": {},
   "outputs": [],
   "source": [
    "df=df.drop(labels=['股票代码','名称'],axis=1)"
   ]
  },
  {
   "cell_type": "code",
   "execution_count": 4,
   "metadata": {},
   "outputs": [
    {
     "data": {
      "text/html": [
       "<div>\n",
       "<style scoped>\n",
       "    .dataframe tbody tr th:only-of-type {\n",
       "        vertical-align: middle;\n",
       "    }\n",
       "\n",
       "    .dataframe tbody tr th {\n",
       "        vertical-align: top;\n",
       "    }\n",
       "\n",
       "    .dataframe thead th {\n",
       "        text-align: right;\n",
       "    }\n",
       "</style>\n",
       "<table border=\"1\" class=\"dataframe\">\n",
       "  <thead>\n",
       "    <tr style=\"text-align: right;\">\n",
       "      <th></th>\n",
       "      <th>Date</th>\n",
       "      <th>price</th>\n",
       "      <th>positive</th>\n",
       "      <th>negative</th>\n",
       "    </tr>\n",
       "  </thead>\n",
       "  <tbody>\n",
       "    <tr>\n",
       "      <th>0</th>\n",
       "      <td>2021-11-01</td>\n",
       "      <td>1803.00</td>\n",
       "      <td>0.7244</td>\n",
       "      <td>0.2756</td>\n",
       "    </tr>\n",
       "    <tr>\n",
       "      <th>1</th>\n",
       "      <td>2021-11-02</td>\n",
       "      <td>1804.64</td>\n",
       "      <td>0.7244</td>\n",
       "      <td>0.2756</td>\n",
       "    </tr>\n",
       "    <tr>\n",
       "      <th>2</th>\n",
       "      <td>2021-11-03</td>\n",
       "      <td>1765.00</td>\n",
       "      <td>0.7244</td>\n",
       "      <td>0.2756</td>\n",
       "    </tr>\n",
       "    <tr>\n",
       "      <th>3</th>\n",
       "      <td>2021-11-04</td>\n",
       "      <td>1804.20</td>\n",
       "      <td>0.7244</td>\n",
       "      <td>0.2756</td>\n",
       "    </tr>\n",
       "    <tr>\n",
       "      <th>4</th>\n",
       "      <td>2021-11-05</td>\n",
       "      <td>1819.94</td>\n",
       "      <td>0.7244</td>\n",
       "      <td>0.2756</td>\n",
       "    </tr>\n",
       "    <tr>\n",
       "      <th>...</th>\n",
       "      <td>...</td>\n",
       "      <td>...</td>\n",
       "      <td>...</td>\n",
       "      <td>...</td>\n",
       "    </tr>\n",
       "    <tr>\n",
       "      <th>257</th>\n",
       "      <td>2022-11-21</td>\n",
       "      <td>1519.98</td>\n",
       "      <td>0.2264</td>\n",
       "      <td>0.7736</td>\n",
       "    </tr>\n",
       "    <tr>\n",
       "      <th>258</th>\n",
       "      <td>2022-11-22</td>\n",
       "      <td>1539.95</td>\n",
       "      <td>0.2264</td>\n",
       "      <td>0.7736</td>\n",
       "    </tr>\n",
       "    <tr>\n",
       "      <th>259</th>\n",
       "      <td>2022-11-23</td>\n",
       "      <td>1549.00</td>\n",
       "      <td>0.2264</td>\n",
       "      <td>0.7736</td>\n",
       "    </tr>\n",
       "    <tr>\n",
       "      <th>260</th>\n",
       "      <td>2022-11-24</td>\n",
       "      <td>1519.99</td>\n",
       "      <td>0.2264</td>\n",
       "      <td>0.7736</td>\n",
       "    </tr>\n",
       "    <tr>\n",
       "      <th>261</th>\n",
       "      <td>2022-11-25</td>\n",
       "      <td>1522.01</td>\n",
       "      <td>0.2264</td>\n",
       "      <td>0.7736</td>\n",
       "    </tr>\n",
       "  </tbody>\n",
       "</table>\n",
       "<p>262 rows × 4 columns</p>\n",
       "</div>"
      ],
      "text/plain": [
       "           Date    price  positive  negative\n",
       "0    2021-11-01  1803.00    0.7244    0.2756\n",
       "1    2021-11-02  1804.64    0.7244    0.2756\n",
       "2    2021-11-03  1765.00    0.7244    0.2756\n",
       "3    2021-11-04  1804.20    0.7244    0.2756\n",
       "4    2021-11-05  1819.94    0.7244    0.2756\n",
       "..          ...      ...       ...       ...\n",
       "257  2022-11-21  1519.98    0.2264    0.7736\n",
       "258  2022-11-22  1539.95    0.2264    0.7736\n",
       "259  2022-11-23  1549.00    0.2264    0.7736\n",
       "260  2022-11-24  1519.99    0.2264    0.7736\n",
       "261  2022-11-25  1522.01    0.2264    0.7736\n",
       "\n",
       "[262 rows x 4 columns]"
      ]
     },
     "execution_count": 4,
     "metadata": {},
     "output_type": "execute_result"
    }
   ],
   "source": [
    "df"
   ]
  },
  {
   "cell_type": "code",
   "execution_count": 5,
   "metadata": {},
   "outputs": [
    {
     "data": {
      "text/html": [
       "<div>\n",
       "<style scoped>\n",
       "    .dataframe tbody tr th:only-of-type {\n",
       "        vertical-align: middle;\n",
       "    }\n",
       "\n",
       "    .dataframe tbody tr th {\n",
       "        vertical-align: top;\n",
       "    }\n",
       "\n",
       "    .dataframe thead th {\n",
       "        text-align: right;\n",
       "    }\n",
       "</style>\n",
       "<table border=\"1\" class=\"dataframe\">\n",
       "  <thead>\n",
       "    <tr style=\"text-align: right;\">\n",
       "      <th></th>\n",
       "      <th>0</th>\n",
       "      <th>1</th>\n",
       "      <th>2</th>\n",
       "    </tr>\n",
       "  </thead>\n",
       "  <tbody>\n",
       "    <tr>\n",
       "      <th>0</th>\n",
       "      <td>0.536672</td>\n",
       "      <td>0.7244</td>\n",
       "      <td>0.2756</td>\n",
       "    </tr>\n",
       "    <tr>\n",
       "      <th>1</th>\n",
       "      <td>0.538615</td>\n",
       "      <td>0.7244</td>\n",
       "      <td>0.2756</td>\n",
       "    </tr>\n",
       "    <tr>\n",
       "      <th>2</th>\n",
       "      <td>0.491654</td>\n",
       "      <td>0.7244</td>\n",
       "      <td>0.2756</td>\n",
       "    </tr>\n",
       "    <tr>\n",
       "      <th>3</th>\n",
       "      <td>0.538094</td>\n",
       "      <td>0.7244</td>\n",
       "      <td>0.2756</td>\n",
       "    </tr>\n",
       "    <tr>\n",
       "      <th>4</th>\n",
       "      <td>0.556741</td>\n",
       "      <td>0.7244</td>\n",
       "      <td>0.2756</td>\n",
       "    </tr>\n",
       "  </tbody>\n",
       "</table>\n",
       "</div>"
      ],
      "text/plain": [
       "          0       1       2\n",
       "0  0.536672  0.7244  0.2756\n",
       "1  0.538615  0.7244  0.2756\n",
       "2  0.491654  0.7244  0.2756\n",
       "3  0.538094  0.7244  0.2756\n",
       "4  0.556741  0.7244  0.2756"
      ]
     },
     "execution_count": 5,
     "metadata": {},
     "output_type": "execute_result"
    }
   ],
   "source": [
    "minmax = MinMaxScaler().fit(df.iloc[:, 1:2].astype('float32'))\n",
    "df_log = minmax.transform(df.iloc[:, 1:2].astype('float32'))\n",
    "df_log = pd.DataFrame(df_log)\n",
    "df_log[1] = df['positive']\n",
    "df_log[2] = df['negative']\n",
    "df_log.head()"
   ]
  },
  {
   "cell_type": "code",
   "execution_count": 31,
   "metadata": {},
   "outputs": [
    {
     "data": {
      "text/plain": [
       "((262, 4), (242, 3), (20, 3))"
      ]
     },
     "execution_count": 31,
     "metadata": {},
     "output_type": "execute_result"
    }
   ],
   "source": [
    "num_layers = 1\n",
    "size_layer = 128\n",
    "epoch = 120\n",
    "dropout_rate = 0.75\n",
    "test_size = 2 * 10 # timestamp every 20 minutes, and I want to test on last 12 hours\n",
    "learning_rate = 1e-4\n",
    "timestamp = test_size\n",
    "\n",
    "df_train = df_log.iloc[:-test_size]\n",
    "df_test = df_log.iloc[-test_size:]\n",
    "df.shape, df_train.shape, df_test.shape"
   ]
  },
  {
   "cell_type": "code",
   "execution_count": 32,
   "metadata": {},
   "outputs": [],
   "source": [
    "def encoder_block(inp, n_hidden, filter_size):\n",
    "    inp = tf.expand_dims(inp, 2)\n",
    "    inp = tf.pad(\n",
    "        inp,\n",
    "        [\n",
    "            [0, 0],\n",
    "            [(filter_size[0] - 1) // 2, (filter_size[0] - 1) // 2],\n",
    "            [0, 0],\n",
    "            [0, 0],\n",
    "        ],\n",
    "    )\n",
    "    conv = tf.layers.conv2d(\n",
    "        inp, n_hidden, filter_size, padding = 'VALID', activation = None\n",
    "    )\n",
    "    conv = tf.squeeze(conv, 2)\n",
    "    return conv\n",
    "\n",
    "\n",
    "def decoder_block(inp, n_hidden, filter_size):\n",
    "    inp = tf.expand_dims(inp, 2)\n",
    "    inp = tf.pad(inp, [[0, 0], [filter_size[0] - 1, 0], [0, 0], [0, 0]])\n",
    "    conv = tf.layers.conv2d(\n",
    "        inp, n_hidden, filter_size, padding = 'VALID', activation = None\n",
    "    )\n",
    "    conv = tf.squeeze(conv, 2)\n",
    "    return conv\n",
    "\n",
    "\n",
    "def glu(x):\n",
    "    return tf.multiply(\n",
    "        x[:, :, : tf.shape(x)[2] // 2],\n",
    "        tf.sigmoid(x[:, :, tf.shape(x)[2] // 2 :]),\n",
    "    )\n",
    "\n",
    "\n",
    "def layer(inp, conv_block, kernel_width, n_hidden, residual = None):\n",
    "    z = conv_block(inp, n_hidden, (kernel_width, 1))\n",
    "    return glu(z) + (residual if residual is not None else 0)\n",
    "\n",
    "class Model:\n",
    "    def __init__(\n",
    "        self,\n",
    "        learning_rate,\n",
    "        num_layers,\n",
    "        size,\n",
    "        size_layer,\n",
    "        output_size,\n",
    "        kernel_size = 3,\n",
    "        n_attn_heads = 16,\n",
    "        dropout = 0.9,\n",
    "    ):\n",
    "        self.X = tf.placeholder(tf.float32, (None, None, size))\n",
    "        self.Y = tf.placeholder(tf.float32, (None, output_size))\n",
    "\n",
    "        encoder_embedded = tf.layers.dense(self.X, size_layer)\n",
    "\n",
    "        e = tf.identity(encoder_embedded)\n",
    "        for i in range(num_layers):\n",
    "            z = layer(\n",
    "                encoder_embedded,\n",
    "                encoder_block,\n",
    "                kernel_size,\n",
    "                size_layer * 2,\n",
    "                encoder_embedded,\n",
    "            )\n",
    "            z = tf.nn.dropout(z, keep_prob = dropout)\n",
    "            encoder_embedded = z\n",
    "\n",
    "        encoder_output, output_memory = z, z + e\n",
    "        g = tf.identity(encoder_embedded)\n",
    "\n",
    "        for i in range(num_layers):\n",
    "            attn_res = h = layer(\n",
    "                encoder_embedded,\n",
    "                decoder_block,\n",
    "                kernel_size,\n",
    "                size_layer * 2,\n",
    "                residual = tf.zeros_like(encoder_embedded),\n",
    "            )\n",
    "            C = []\n",
    "            for j in range(n_attn_heads):\n",
    "                h_ = tf.layers.dense(h, size_layer // n_attn_heads)\n",
    "                g_ = tf.layers.dense(g, size_layer // n_attn_heads)\n",
    "                zu_ = tf.layers.dense(\n",
    "                    encoder_output, size_layer // n_attn_heads\n",
    "                )\n",
    "                ze_ = tf.layers.dense(output_memory, size_layer // n_attn_heads)\n",
    "\n",
    "                d = tf.layers.dense(h_, size_layer // n_attn_heads) + g_\n",
    "                dz = tf.matmul(d, tf.transpose(zu_, [0, 2, 1]))\n",
    "                a = tf.nn.softmax(dz)\n",
    "                c_ = tf.matmul(a, ze_)\n",
    "                C.append(c_)\n",
    "\n",
    "            c = tf.concat(C, 2)\n",
    "            h = tf.layers.dense(attn_res + c, size_layer)\n",
    "            h = tf.nn.dropout(h, keep_prob = dropout)\n",
    "            encoder_embedded = h\n",
    "\n",
    "        encoder_embedded = tf.sigmoid(encoder_embedded[-1])\n",
    "        self.logits = tf.layers.dense(encoder_embedded, output_size)\n",
    "        self.cost = tf.reduce_mean(tf.square(self.Y - self.logits))\n",
    "        self.optimizer = tf.train.AdamOptimizer(learning_rate).minimize(\n",
    "            self.cost\n",
    "        )\n",
    "        \n",
    "def calculate_accuracy(real, predict):\n",
    "    real = np.array(real) + 1\n",
    "    predict = np.array(predict) + 1\n",
    "    percentage = 1 - np.sqrt(np.mean(np.square((real - predict) / real)))\n",
    "    return percentage * 100\n",
    "\n",
    "def anchor(signal, weight):\n",
    "    buffer = []\n",
    "    last = signal[0]\n",
    "    for i in signal:\n",
    "        smoothed_val = last * weight + (1 - weight) * i\n",
    "        buffer.append(smoothed_val)\n",
    "        last = smoothed_val\n",
    "    return buffer"
   ]
  },
  {
   "cell_type": "code",
   "execution_count": 33,
   "metadata": {},
   "outputs": [
    {
     "name": "stderr",
     "output_type": "stream",
     "text": [
      "C:\\Users\\ufo\\AppData\\Local\\Temp/ipykernel_23860/3164344384.py:55: UserWarning: `tf.layers.dense` is deprecated and will be removed in a future version. Please use `tf.keras.layers.Dense` instead.\n",
      "  encoder_embedded = tf.layers.dense(self.X, size_layer)\n",
      "C:\\Users\\ufo\\anaconda3\\envs\\tensorflow1\\lib\\site-packages\\keras\\legacy_tf_layers\\core.py:255: UserWarning: `layer.apply` is deprecated and will be removed in a future version. Please use `layer.__call__` method instead.\n",
      "  return layer.apply(inputs)\n",
      "C:\\Users\\ufo\\AppData\\Local\\Temp/ipykernel_23860/3164344384.py:12: UserWarning: `tf.layers.conv2d` is deprecated and will be removed in a future version. Please Use `tf.keras.layers.Conv2D` instead.\n",
      "  conv = tf.layers.conv2d(\n",
      "C:\\Users\\ufo\\anaconda3\\envs\\tensorflow1\\lib\\site-packages\\keras\\legacy_tf_layers\\convolutional.py:563: UserWarning: `layer.apply` is deprecated and will be removed in a future version. Please use `layer.__call__` method instead.\n",
      "  return layer.apply(inputs)\n",
      "C:\\Users\\ufo\\AppData\\Local\\Temp/ipykernel_23860/3164344384.py:22: UserWarning: `tf.layers.conv2d` is deprecated and will be removed in a future version. Please Use `tf.keras.layers.Conv2D` instead.\n",
      "  conv = tf.layers.conv2d(\n",
      "C:\\Users\\ufo\\AppData\\Local\\Temp/ipykernel_23860/3164344384.py:82: UserWarning: `tf.layers.dense` is deprecated and will be removed in a future version. Please use `tf.keras.layers.Dense` instead.\n",
      "  h_ = tf.layers.dense(h, size_layer // n_attn_heads)\n",
      "C:\\Users\\ufo\\AppData\\Local\\Temp/ipykernel_23860/3164344384.py:83: UserWarning: `tf.layers.dense` is deprecated and will be removed in a future version. Please use `tf.keras.layers.Dense` instead.\n",
      "  g_ = tf.layers.dense(g, size_layer // n_attn_heads)\n",
      "C:\\Users\\ufo\\AppData\\Local\\Temp/ipykernel_23860/3164344384.py:84: UserWarning: `tf.layers.dense` is deprecated and will be removed in a future version. Please use `tf.keras.layers.Dense` instead.\n",
      "  zu_ = tf.layers.dense(\n",
      "C:\\Users\\ufo\\AppData\\Local\\Temp/ipykernel_23860/3164344384.py:87: UserWarning: `tf.layers.dense` is deprecated and will be removed in a future version. Please use `tf.keras.layers.Dense` instead.\n",
      "  ze_ = tf.layers.dense(output_memory, size_layer // n_attn_heads)\n",
      "C:\\Users\\ufo\\AppData\\Local\\Temp/ipykernel_23860/3164344384.py:89: UserWarning: `tf.layers.dense` is deprecated and will be removed in a future version. Please use `tf.keras.layers.Dense` instead.\n",
      "  d = tf.layers.dense(h_, size_layer // n_attn_heads) + g_\n",
      "C:\\Users\\ufo\\AppData\\Local\\Temp/ipykernel_23860/3164344384.py:96: UserWarning: `tf.layers.dense` is deprecated and will be removed in a future version. Please use `tf.keras.layers.Dense` instead.\n",
      "  h = tf.layers.dense(attn_res + c, size_layer)\n",
      "C:\\Users\\ufo\\AppData\\Local\\Temp/ipykernel_23860/3164344384.py:101: UserWarning: `tf.layers.dense` is deprecated and will be removed in a future version. Please use `tf.keras.layers.Dense` instead.\n",
      "  self.logits = tf.layers.dense(encoder_embedded, output_size)\n",
      "C:\\Users\\ufo\\anaconda3\\envs\\tensorflow1\\lib\\site-packages\\tensorflow\\python\\client\\session.py:1771: UserWarning: An interactive session is already active. This can cause out-of-memory errors in some cases. You must explicitly call `InteractiveSession.close()` to release resources held by the other session(s).\n",
      "  warnings.warn('An interactive session is already active. This can '\n"
     ]
    }
   ],
   "source": [
    "#tf.reset_default_graph()\n",
    "tf.compat.v1.reset_default_graph()\n",
    "modelnn = Model(\n",
    "    learning_rate, num_layers, df_log.shape[1], size_layer, df_log.shape[1], \n",
    "    dropout = dropout_rate\n",
    ")\n",
    "sess = tf.InteractiveSession()\n",
    "sess.run(tf.global_variables_initializer())"
   ]
  },
  {
   "cell_type": "code",
   "execution_count": 34,
   "metadata": {},
   "outputs": [
    {
     "name": "stderr",
     "output_type": "stream",
     "text": [
      "train loop: 100%|█████████████████████████████████████████████| 120/120 [00:06<00:00, 18.23it/s, acc=95.9, cost=0.0035]\n"
     ]
    }
   ],
   "source": [
    "from tqdm import tqdm\n",
    "\n",
    "los=[]\n",
    "pbar = tqdm(range(epoch), desc = 'train loop')\n",
    "for i in pbar:\n",
    "    init_value = np.zeros((1, num_layers * 2 * size_layer))\n",
    "    total_loss, total_acc = [], []\n",
    "    for k in range(0, df_train.shape[0] - 1, timestamp):\n",
    "        index = min(k + timestamp, df_train.shape[0] - 1)\n",
    "        batch_x = np.expand_dims(\n",
    "            df_train.iloc[k : index, :].values, axis = 0\n",
    "        )\n",
    "        batch_y = df_train.iloc[k + 1 : index + 1, :].values\n",
    "        logits, _, loss = sess.run(\n",
    "            [modelnn.logits, modelnn.optimizer, modelnn.cost],\n",
    "            feed_dict = {modelnn.X: batch_x, modelnn.Y: batch_y},\n",
    "        )        \n",
    "        total_loss.append(loss)\n",
    "        total_acc.append(calculate_accuracy(batch_y[:, 0], logits[:, 0]))\n",
    "    los.append(np.mean(total_loss))\n",
    "    pbar.set_postfix(cost = np.mean(total_loss), acc = np.mean(total_acc))\n",
    "    "
   ]
  },
  {
   "cell_type": "code",
   "execution_count": 67,
   "metadata": {},
   "outputs": [
    {
     "data": {
      "text/plain": [
       "[0.892864,\n",
       " 0.4674707,\n",
       " 0.20597863,\n",
       " 0.089143716,\n",
       " 0.04709599,\n",
       " 0.04527805,\n",
       " 0.048471652,\n",
       " 0.03464442,\n",
       " 0.034740712,\n",
       " 0.0339159,\n",
       " 0.026713956,\n",
       " 0.02227332,\n",
       " 0.02172186,\n",
       " 0.018008785,\n",
       " 0.022088906,\n",
       " 0.017613422,\n",
       " 0.01650032,\n",
       " 0.014562092,\n",
       " 0.014875755,\n",
       " 0.015682349,\n",
       " 0.012546946,\n",
       " 0.015912775,\n",
       " 0.014013112,\n",
       " 0.012846699,\n",
       " 0.011688294,\n",
       " 0.011359785,\n",
       " 0.013310801,\n",
       " 0.012056357,\n",
       " 0.01061136,\n",
       " 0.010908593,\n",
       " 0.013026823,\n",
       " 0.009707938,\n",
       " 0.009773238,\n",
       " 0.008537829,\n",
       " 0.01005589,\n",
       " 0.00825523,\n",
       " 0.009345546,\n",
       " 0.008344866,\n",
       " 0.00884443,\n",
       " 0.008745902,\n",
       " 0.007795646,\n",
       " 0.008543351,\n",
       " 0.008848104,\n",
       " 0.0082781715,\n",
       " 0.00866094,\n",
       " 0.0073469435,\n",
       " 0.0067309286,\n",
       " 0.007877188,\n",
       " 0.008479024,\n",
       " 0.00777093,\n",
       " 0.007290339,\n",
       " 0.005773775,\n",
       " 0.0067230877,\n",
       " 0.006680276,\n",
       " 0.006402349,\n",
       " 0.007587759,\n",
       " 0.0064988188,\n",
       " 0.0063958834,\n",
       " 0.0062415143,\n",
       " 0.0059453472,\n",
       " 0.007290346,\n",
       " 0.0062281685,\n",
       " 0.006010486,\n",
       " 0.0062620337,\n",
       " 0.0055736583,\n",
       " 0.0063006347,\n",
       " 0.005341893,\n",
       " 0.006143846,\n",
       " 0.0057293456,\n",
       " 0.0061634653,\n",
       " 0.0056093903,\n",
       " 0.0062821405,\n",
       " 0.0051449933,\n",
       " 0.0050673317,\n",
       " 0.005254534,\n",
       " 0.005421022,\n",
       " 0.005797468,\n",
       " 0.004811697,\n",
       " 0.0053876275,\n",
       " 0.005233432,\n",
       " 0.0059638065,\n",
       " 0.0056467946,\n",
       " 0.0052997847,\n",
       " 0.008451053,\n",
       " 0.004922543,\n",
       " 0.005463598,\n",
       " 0.0047660046,\n",
       " 0.0050938684,\n",
       " 0.004556823,\n",
       " 0.00481306,\n",
       " 0.004870861,\n",
       " 0.004494398,\n",
       " 0.0052405032,\n",
       " 0.0058432072,\n",
       " 0.004731003,\n",
       " 0.0052637625,\n",
       " 0.00505596,\n",
       " 0.0037423116,\n",
       " 0.004255892,\n",
       " 0.004274639,\n",
       " 0.004210865,\n",
       " 0.0044945544,\n",
       " 0.0045269425,\n",
       " 0.0043042107,\n",
       " 0.004527324,\n",
       " 0.0049020257,\n",
       " 0.0045864587,\n",
       " 0.004473035,\n",
       " 0.0041905837,\n",
       " 0.004123156,\n",
       " 0.004064069,\n",
       " 0.0038173944,\n",
       " 0.0045837606,\n",
       " 0.0043426873,\n",
       " 0.00397727,\n",
       " 0.0038782398,\n",
       " 0.004084717,\n",
       " 0.004510646,\n",
       " 0.0038870124,\n",
       " 0.0035021396]"
      ]
     },
     "execution_count": 67,
     "metadata": {},
     "output_type": "execute_result"
    }
   ],
   "source": [
    "los"
   ]
  },
  {
   "cell_type": "code",
   "execution_count": 35,
   "metadata": {},
   "outputs": [],
   "source": [
    "future_day = test_size\n",
    "\n",
    "output_predict = np.zeros((df_train.shape[0] + future_day, df_train.shape[1]))\n",
    "output_predict[0] = df_train.iloc[0]\n",
    "upper_b = (df_train.shape[0] // timestamp) * timestamp\n",
    "\n",
    "for k in range(0, (df_train.shape[0] // timestamp) * timestamp, timestamp):\n",
    "    out_logits = sess.run(\n",
    "        modelnn.logits,\n",
    "        feed_dict = {\n",
    "            modelnn.X: np.expand_dims(\n",
    "                df_train.iloc[k : k + timestamp], axis = 0\n",
    "            )\n",
    "        },\n",
    "    )\n",
    "    output_predict[k + 1 : k + timestamp + 1] = out_logits\n",
    "\n",
    "if upper_b != df_train.shape[0]:\n",
    "    out_logits = sess.run(\n",
    "        modelnn.logits,\n",
    "        feed_dict = {\n",
    "            modelnn.X: np.expand_dims(df_train.iloc[upper_b:], axis = 0)\n",
    "        },\n",
    "    )\n",
    "    output_predict[upper_b + 1 : df_train.shape[0] + 1] = out_logits\n",
    "    future_day -= 1"
   ]
  },
  {
   "cell_type": "code",
   "execution_count": 36,
   "metadata": {},
   "outputs": [],
   "source": [
    "output_predict_negative = output_predict.copy()\n",
    "output_predict_positive = output_predict.copy()"
   ]
  },
  {
   "cell_type": "code",
   "execution_count": 37,
   "metadata": {},
   "outputs": [],
   "source": [
    "for i in range(future_day):\n",
    "    o = output_predict[-future_day - timestamp + i:-future_day + i].copy()\n",
    "    o = np.expand_dims(o, axis = 0)\n",
    "    \n",
    "    o_negative = output_predict_negative[-future_day - timestamp + i:-future_day + i].copy()\n",
    "    o_negative = np.expand_dims(o_negative, axis = 0)\n",
    "    o_negative[:, :, 1] = 0.0\n",
    "    o_negative[:, :, 2] = 1.0\n",
    "    \n",
    "    o_positive = output_predict_positive[-future_day - timestamp + i:-future_day + i].copy()\n",
    "    o_positive = np.expand_dims(o_positive, axis = 0)\n",
    "    o_positive[:, :, 1] = 1.0\n",
    "    o_positive[:, :, 2] = 0.0\n",
    "    \n",
    "    # original without any consensus\n",
    "    out_logits = sess.run(\n",
    "        modelnn.logits,\n",
    "        feed_dict = {\n",
    "            modelnn.X: o\n",
    "        },\n",
    "    )\n",
    "    output_predict[-future_day + i] = out_logits[-1]\n",
    "    \n",
    "    # negative consensus\n",
    "    out_logits = sess.run(\n",
    "        modelnn.logits,\n",
    "        feed_dict = {\n",
    "            modelnn.X: o_negative\n",
    "        },\n",
    "    )\n",
    "    output_predict_negative[-future_day + i] = out_logits[-1]\n",
    "    \n",
    "    # positive consensus\n",
    "    out_logits = sess.run(\n",
    "        modelnn.logits,\n",
    "        feed_dict = {\n",
    "            modelnn.X: o_positive\n",
    "        },\n",
    "    )\n",
    "    output_predict_positive[-future_day + i] = out_logits[-1]"
   ]
  },
  {
   "cell_type": "code",
   "execution_count": 38,
   "metadata": {},
   "outputs": [],
   "source": [
    "output_predict_original = minmax.inverse_transform(output_predict[:,:1])\n",
    "output_predict_negative = minmax.inverse_transform(output_predict_negative[:,:1])\n",
    "output_predict_positive = minmax.inverse_transform(output_predict_positive[:,:1])"
   ]
  },
  {
   "cell_type": "code",
   "execution_count": 39,
   "metadata": {},
   "outputs": [],
   "source": [
    "deep_future = anchor(output_predict_original[:, 0], 0.7)\n",
    "deep_future_negative = anchor(output_predict_negative[:, 0], 0.7)\n",
    "deep_future_positive = anchor(output_predict_positive[:, 0], 0.7)"
   ]
  },
  {
   "cell_type": "code",
   "execution_count": 40,
   "metadata": {},
   "outputs": [
    {
     "data": {
      "text/plain": [
       "((262, 4), 262)"
      ]
     },
     "execution_count": 40,
     "metadata": {},
     "output_type": "execute_result"
    }
   ],
   "source": [
    "df.shape, len(deep_future_negative)"
   ]
  },
  {
   "cell_type": "code",
   "execution_count": 41,
   "metadata": {},
   "outputs": [],
   "source": [
    "df_train = minmax.inverse_transform(df_train)\n",
    "df_test = minmax.inverse_transform(df_test)"
   ]
  },
  {
   "cell_type": "code",
   "execution_count": 58,
   "metadata": {
    "scrolled": false
   },
   "outputs": [
    {
     "data": {
      "image/png": "[encoded data removed]",
      "text/plain": [
       "<Figure size 1080x360 with 1 Axes>"
      ]
     },
     "metadata": {},
     "output_type": "display_data"
    }
   ],
   "source": [
    "timestamp = df['Date'].tolist()\n",
    "pad_test = np.pad(df_test[:,0], (df_train.shape[0], 0), 'constant', constant_values=np.nan)\n",
    "\n",
    "plt.figure(figsize = (15, 5))\n",
    "plt.plot(pad_test, label = 'test trend', c = 'blue')\n",
    "plt.plot(df_train[:,0], label = 'train trend', c = 'black')\n",
    "plt.plot(deep_future, label = 'forecast without consensus')\n",
    "plt.plot(deep_future_negative, label = 'forecast with negative consensus', c = 'red')\n",
    "plt.plot(deep_future_positive, label = 'forecast with positive consensus', c = 'green')\n",
    "plt.legend()\n",
    "plt.xticks(\n",
    "    np.arange(len(timestamp))[::30], timestamp[::30], rotation = '45', ha = 'right'\n",
    ")\n",
    "plt.show()"
   ]
  },
  {
   "cell_type": "code",
   "execution_count": 4,
   "metadata": {},
   "outputs": [],
   "source": [
    "ft_list=pd.DataFrame(los,index=range(120),columns=pd.Index(['loss']))"
   ]
  },
  {
   "cell_type": "code",
   "execution_count": 10,
   "metadata": {
    "scrolled": true
   },
   "outputs": [
    {
     "name": "stderr",
     "output_type": "stream",
     "text": [
      "C:\\Users\\ufo\\anaconda3\\envs\\tensorflow1\\lib\\site-packages\\seaborn\\_decorators.py:36: FutureWarning: Pass the following variable as a keyword arg: x. From version 0.12, the only valid positional argument will be `data`, and passing other arguments without an explicit keyword will result in an error or misinterpretation.\n",
      "  warnings.warn(\n"
     ]
    },
    {
     "data": {
      "text/plain": [
       "<AxesSubplot:ylabel='loss'>"
      ]
     },
     "execution_count": 10,
     "metadata": {},
     "output_type": "execute_result"
    },
    {
     "data": {
      "image/png": "[encoded data removed]",
      "text/plain": [
       "<Figure size 432x288 with 1 Axes>"
      ]
     },
     "metadata": {},
     "output_type": "display_data"
    }
   ],
   "source": [
    "x = np.arange(0, 120)\n",
    "#plt.xlim(0, 20)\n",
    "plt.tight_layout()\n",
    "sns.lineplot(x, y='loss',data=ft_list)"
   ]
  },
  {
   "cell_type": "code",
   "execution_count": 13,
   "metadata": {
    "scrolled": false
   },
   "outputs": [
    {
     "name": "stderr",
     "output_type": "stream",
     "text": [
      "C:\\Users\\ufo\\anaconda3\\envs\\tensorflow1\\lib\\site-packages\\seaborn\\_decorators.py:36: FutureWarning: Pass the following variable as a keyword arg: x. From version 0.12, the only valid positional argument will be `data`, and passing other arguments without an explicit keyword will result in an error or misinterpretation.\n",
      "  warnings.warn(\n"
     ]
    },
    {
     "data": {
      "text/plain": [
       "<AxesSubplot:ylabel='loss'>"
      ]
     },
     "execution_count": 13,
     "metadata": {},
     "output_type": "execute_result"
    },
    {
     "data": {
      "image/png": "[encoded data removed]",
      "text/plain": [
       "<Figure size 432x288 with 1 Axes>"
      ]
     },
     "metadata": {},
     "output_type": "display_data"
    }
   ],
   "source": [
    "ft_list=pd.DataFrame(los1,index=range(120),columns=pd.Index(['loss']))\n",
    "x = np.arange(0, 120)\n",
    "#plt.xlim(0, 20)\n",
    "plt.tight_layout()\n",
    "sns.lineplot(x, y='loss',data=ft_list)"
   ]
  },
  {
   "cell_type": "code",
   "execution_count": 65,
   "metadata": {},
   "outputs": [],
   "source": [
    "df = pd.DataFrame(lis)\n",
    "df['lis1']=lis_1\n",
    "df['lis2']=lis_2\n",
    "df['orig1']=abs(df['lis2']-df[0])\n",
    "df['orig']=abs(df['lis1']-df[0])\n",
    "df=df.drop([0,'lis1','lis2'],axis=1)\n",
    "df.rename(columns={'orig':'with em_score','orig1':'without em_score'},inplace=True)"
   ]
  },
  {
   "cell_type": "code",
   "execution_count": 66,
   "metadata": {
    "scrolled": true
   },
   "outputs": [
    {
     "data": {
      "image/png": "[encoded data removed]",
      "text/plain": [
       "<Figure size 1296x720 with 1 Axes>"
      ]
     },
     "metadata": {},
     "output_type": "display_data"
    }
   ],
   "source": [
    "fig, ax = plt.subplots()\n",
    "\n",
    "with sns.axes_style(\"whitegrid\"):\n",
    "    df.plot(kind='bar',figsize=(18,10),legend='upper center',color = ['blue', 'lightseagreen'], ax=ax)\n",
    "    ax.legend(loc='upper left',fontsize=15)\n",
    "    ax.tick_params(axis='x', which='major', labelsize=20, labelrotation=315)\n",
    "    ax.tick_params(axis='y', which='major', labelsize=15)\n",
    "    ax.set_ylabel(ylabel='price gap',fontsize=15)"
   ]
  }
 ],
 "metadata": {
  "kernelspec": {
   "display_name": "Python 3 (ipykernel)",
   "language": "python",
   "name": "python3"
  },
  "language_info": {
   "codemirror_mode": {
    "name": "ipython",
    "version": 3
   },
   "file_extension": ".py",
   "mimetype": "text/x-python",
   "name": "python",
   "nbconvert_exporter": "python",
   "pygments_lexer": "ipython3",
   "version": "3.8.8"
  }
 },
 "nbformat": 4,
 "nbformat_minor": 2
}
