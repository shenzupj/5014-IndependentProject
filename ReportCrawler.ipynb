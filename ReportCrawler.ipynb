{
 "cells": [
  {
   "cell_type": "code",
   "execution_count": 24,
   "id": "3fde021f",
   "metadata": {},
   "outputs": [],
   "source": [
    "#coding=utf-8\n",
    "\n",
    "import numpy as np\n",
    "from tqdm import tqdm\n",
    "import requests\n",
    "from bs4 import BeautifulSoup\n",
    "import json\n",
    "import time\n",
    "\n",
    "# 这里也可以设置IP池\n",
    "header = {\"User-Agent\": \"Mozilla/5.0 (Windows NT 10.0; Win64; x64) AppleWebKit/537.36 (KHTML, like Gecko) Chrome/107.0.0.0 Safari/537.36\"}       # 这里要填写user-agent\n",
    "#url = 'http://reportapi.eastmoney.com/report/list?cb=datatable3151164&industryCode=*&pageSize=50&industry=*&rating=*&ratingChange=*&beginTime=2020-03-08&endTime=2022-03-08&pageNo={}&fields=&qType=1&orgCode=&rcode=&_=1646710798362'\n",
    "\n",
    "url = 'https://reportapi.eastmoney.com/report/jg?cb=datatable3394864&pageSize=50&beginTime=2020-11-12&endTime=2022-11-12&pageNo={}&fields=&qType=3&orgCode=&author=&p=2&pageNum=2&pageNumber=2&_=1668238775186'\n",
    "\n",
    "def getHtml(pageNo):\n",
    "\n",
    "    response = requests.get(url.format(pageNo), headers = header)\n",
    "    html = response.content.decode(\"utf-8\")\n",
    "\n",
    "    return html\n",
    "\n",
    "\n",
    "\n",
    "def parse_data(data, News):\n",
    "        \n",
    "    for i in data['data']:\n",
    "        # 作者信息\n",
    "        researcher = i['researcher']\n",
    "        orgSName = i['orgSName']\n",
    "        orgCode = i['orgCode']\n",
    "        # 研报内容信息\n",
    "        publishDate = i['publishDate']\n",
    "        title = i['title']\n",
    "        url = 'https://data.eastmoney.com/report/zw_macresearch.jshtml?encodeUrl=' + i['encodeUrl']\n",
    "        Innerhtml = requests.get(url)\n",
    "        Innerhtml.encoding='utf-8'\n",
    "        soup = BeautifulSoup(Innerhtml.text,'html.parser')\n",
    "        page = soup.select('#ctx-content > p')\n",
    "        content = []\n",
    "        for para in page:\n",
    "            if para.text != None:\n",
    "                content.append(para.text.strip())   \n",
    "        content_info = ''.join(content)\n",
    "        \n",
    "        News.append({'researcher' : researcher,\n",
    "                         'orgSName' : orgSName,\n",
    "                         'orgCode' : orgCode,\n",
    "                         'publishDate' : publishDate,\n",
    "                         'title' : title,\n",
    "                         'content' : content_info,\n",
    "                         'url' : url                    \n",
    "                        })\n",
    "    return News\n",
    "\n",
    "\n",
    "\n",
    "def get_industry_research_paper(start_page=140, end_page=141):\n",
    "    # 获取一定页数范围内的研报\n",
    "    News = []\n",
    "    for page_num in tqdm(np.arange(start_page,end_page)):\n",
    "        items = getHtml(page_num)\n",
    "        #print(items)\n",
    "        items = items.replace('datatable3394864(', '')[:-1]\n",
    "        data = json.loads(items)\n",
    "        News = parse_data(data, News)\n",
    "        #print(data)\n",
    "        time.sleep(300)\n",
    "\n",
    "    # 写入    \n",
    "    with open('industry_research_paper3.json', 'w', encoding='utf-8') as f:\n",
    "        json.dump(News, f, indent = 1, ensure_ascii = False)"
   ]
  },
  {
   "cell_type": "code",
   "execution_count": 25,
   "id": "6f9e7b80",
   "metadata": {},
   "outputs": [
    {
     "name": "stderr",
     "output_type": "stream",
     "text": [
      "100%|███████████████████████████████████████████████████████████████████████████████████| 1/1 [06:03<00:00, 363.08s/it]\n"
     ]
    }
   ],
   "source": [
    "get_industry_research_paper()"
   ]
  }
 ],
 "metadata": {
  "kernelspec": {
   "display_name": "Python 3 (ipykernel)",
   "language": "python",
   "name": "python3"
  },
  "language_info": {
   "codemirror_mode": {
    "name": "ipython",
    "version": 3
   },
   "file_extension": ".py",
   "mimetype": "text/x-python",
   "name": "python",
   "nbconvert_exporter": "python",
   "pygments_lexer": "ipython3",
   "version": "3.8.8"
  }
 },
 "nbformat": 4,
 "nbformat_minor": 5
}
